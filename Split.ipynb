{
 "cells": [
  {
   "cell_type": "code",
   "execution_count": null,
   "metadata": {},
   "outputs": [],
   "source": [
    "!cd Split/\n",
    "!ls"
   ]
  },
  {
   "cell_type": "code",
   "execution_count": null,
   "metadata": {},
   "outputs": [],
   "source": [
    "!python splitter.py -f inputVideo.avi -s 1 -v libx264"
   ]
  },
  {
   "cell_type": "code",
   "execution_count": null,
   "metadata": {},
   "outputs": [],
   "source": [
    "!mkdir Videos\n",
    "!mv [inputVideo]* Videos"
   ]
  },
  {
   "cell_type": "code",
   "execution_count": null,
   "metadata": {},
   "outputs": [],
   "source": [
    "!cd Videos\n",
    "!sudo rm Videos/inputVideo.avi\n",
    "import os\n",
    "os.chdir(\"Videos\")"
   ]
  },
  {
   "cell_type": "code",
   "execution_count": null,
   "metadata": {},
   "outputs": [],
   "source": [
    "\n",
    "myArray = os.listdir()\n",
    "myArray"
   ]
  },
  {
   "cell_type": "code",
   "execution_count": null,
   "metadata": {},
   "outputs": [],
   "source": [
    "myArray.sort()\n",
    "spareArray = myArray"
   ]
  },
  {
   "cell_type": "code",
   "execution_count": null,
   "metadata": {},
   "outputs": [],
   "source": [
    "myArray = [\"Videos/\" + s for s in myArray]"
   ]
  },
  {
   "cell_type": "code",
   "execution_count": null,
   "metadata": {},
   "outputs": [],
   "source": [
    "!pip install -q \"tensorflow>=1.7\" \"tensorflow-hub\" \"imageio\""
   ]
  },
  {
   "cell_type": "code",
   "execution_count": null,
   "metadata": {},
   "outputs": [],
   "source": [
    "import tensorflow as tf\n",
    "import tensorflow_hub as hub\n",
    "\n",
    "\n",
    "tf.compat.v1.logging.set_verbosity(tf.compat.v1.logging.ERROR)\n",
    "\n",
    "import random\n",
    "import re\n",
    "import os\n",
    "import shutil\n",
    "import tempfile\n",
    "import cv2\n",
    "import numpy as np\n",
    "\n",
    "import imageio\n",
    "from IPython import display\n",
    "\n",
    "from urllib import request\n",
    "import urllib.request"
   ]
  },
  {
   "cell_type": "code",
   "execution_count": null,
   "metadata": {},
   "outputs": [],
   "source": [
    "UCF_ROOT = \"http://crcv.ucf.edu/THUMOS14/UCF101/UCF101/\"\n",
    "_VIDEO_LIST = None\n",
    "_CACHE_DIR = tempfile.mkdtemp()\n",
    "\n",
    "def list_ucf_videos():\n",
    "    global _VIDEO_LIST\n",
    "    if not _VIDEO_LIST:\n",
    "      index = request.urlopen(UCF_ROOT).read().decode(\"utf-8\")\n",
    "      videos = re.findall(\"(v_[\\w_]+\\.avi)\", index)\n",
    "      _VIDEO_LIST = sorted(set(videos))\n",
    "    return list(_VIDEO_LIST)\n",
    "\n",
    "def fetch_ucf_video(video):\n",
    "    cache_path = os.path.join(_CACHE_DIR, video)\n",
    "    if not os.path.exists(cache_path):\n",
    "      urlpath = request.urljoin(UCF_ROOT, video)\n",
    "      data = request.urlopen(urlpath).read()\n",
    "      open(cache_path, \"wb\").write(data)\n",
    "    return cache_path\n",
    "\n",
    "def crop_center_square(frame):\n",
    "    x, y = frame.shape[0:2]\n",
    "    min_dim = min(x, y)\n",
    "    start_x = (x // 2) - (min_dim // 2)\n",
    "    start_y = (y // 2) - (min_dim // 2)\n",
    "    return frame[start_x:start_x+min_dim, start_y:start_y+min_dim]\n",
    "\n",
    "def load_video(path, max_frames=0, resize=(224, 224)):\n",
    "    cap = cv2.VideoCapture(path)\n",
    "    frames = []\n",
    "    try:\n",
    "      while True:\n",
    "        ret, frame = cap.read()\n",
    "        if not ret:\n",
    "          break\n",
    "        frame = crop_center_square(frame)\n",
    "        frame = cv2.resize(frame, resize)\n",
    "        frame = frame[:, :, [2, 1, 0]]\n",
    "        frames.append(frame)\n",
    "\n",
    "        if len(frames) == max_frames:\n",
    "          break\n",
    "    finally:\n",
    "      cap.release()\n",
    "    return np.array(frames) / 255.0\n",
    "\n",
    "def animate(images):\n",
    "    converted_images = np.clip(images * 255, 0, 255).astype(np.uint8)\n",
    "    imageio.mimsave('./animation.gif', converted_images, fps=25)\n",
    "    with open('./animation.gif','rb') as f:\n",
    "        display.display(display.Image(data=f.read(), height=300))\n",
    "        \n",
    "def substring_after(subString, listOfWord):\n",
    "    return listOfWord.partition(subString)[2]"
   ]
  },
  {
   "cell_type": "code",
   "execution_count": null,
   "metadata": {},
   "outputs": [],
   "source": [
    "KINETICS_URL = \"https://raw.githubusercontent.com/deepmind/kinetics-i3d/master/data/label_map_600.txt\"\n",
    "with request.urlopen(KINETICS_URL) as obj:\n",
    "    labels = [line.decode(\"utf-8\").strip() for line in obj.readlines()]\n",
    "print(\"Found %d labels.\" % len(labels))"
   ]
  },
  {
   "cell_type": "code",
   "execution_count": null,
   "metadata": {},
   "outputs": [],
   "source": [
    "nameOfSavedVideos = []"
   ]
  },
  {
   "cell_type": "code",
   "execution_count": null,
   "metadata": {},
   "outputs": [],
   "source": [
    "for video_name, spare_name in zip(myArray, spareArray):\n",
    "    os.chdir(\"/home/jupyter/Split/\")\n",
    "    if video_name not in nameOfSavedVideos:\n",
    "        sample_video = load_video(video_name)\n",
    "        model_input = np.expand_dims(sample_video, axis=0)\n",
    "\n",
    "        with tf.Graph().as_default():\n",
    "            i3d = hub.Module(\"https://tfhub.dev/deepmind/i3d-kinetics-600/1\")\n",
    "            input_placeholder = tf.compat.v1.placeholder(shape=(None, None, 224, 224, 3), dtype=tf.float32)\n",
    "            logits = i3d(input_placeholder)\n",
    "            probabilities = tf.nn.softmax(logits)\n",
    "            with tf.compat.v1.train.MonitoredSession() as session:\n",
    "              [ps] = session.run(probabilities, feed_dict={input_placeholder: model_input})\n",
    "\n",
    "        for i in np.argsort(ps)[::-1][:1]:\n",
    "            print(\"%-22s %.2f%%\" % (labels[i], ps[i] * 100))\n",
    "            #Create folder\n",
    "            mypath = \"/home/jupyter/Split/Videos/\"\n",
    "            folder_name_for_test_videos = (labels[i])\n",
    "            if not os.path.isdir(mypath + folder_name_for_test_videos):\n",
    "               os.makedirs(mypath + folder_name_for_test_videos)\n",
    "            #Move related videos to related files\n",
    "            os.rename(mypath + spare_name, mypath + folder_name_for_test_videos + \"/\" + spare_name)\n",
    "            \n",
    "            os.chdir(\"/home/jupyter/Split/Videos/\" + folder_name_for_test_videos)\n",
    "            \n",
    "            !ffmpeg -i $spare_name -qscale:v 2 thumb%04d.jpg\n",
    "                        \n",
    "            listOfEachImageFileByFrame = os.listdir()\n",
    "            myFramenewlist = [x for x in listOfEachImageFileByFrame if x.startswith(\"thumb\")]\n",
    "            myFramenewlist.sort()\n",
    "\n",
    "            font = cv2.FONT_HERSHEY_SIMPLEX\n",
    "\n",
    "            firstImg = cv2.imread(myFramenewlist[0], cv2.IMREAD_COLOR)\n",
    "            height, width, channels = firstImg.shape\n",
    "\n",
    "            for image in myFramenewlist:\n",
    "                img = cv2.imread(image, cv2.IMREAD_COLOR)\n",
    "                cv2.putText(img, \"%-22s: %.2f%%\" % (labels[i], ps[i] * 100) , (25,25), font, 1, (255,0,0), 1, cv2.LINE_AA)\n",
    "                cv2.imwrite(image, img)\n",
    "            \n",
    "            !sudo rm $spare_name\n",
    "            !ffmpeg -framerate 30 -i thumb%04d.jpg $spare_name\n",
    "            !sudo rm thumb*"
   ]
  },
  {
   "cell_type": "code",
   "execution_count": null,
   "metadata": {},
   "outputs": [],
   "source": [
    "os.chdir(\"/home/jupyter/Split/Videos\")\n",
    "listOfVideoTypes = os.listdir()\n",
    "\n",
    "for videoFolder in listOfVideoTypes:\n",
    "    os.chdir(\"/home/jupyter/Split/Videos/\" + videoFolder)\n",
    "    \n",
    "    listOfEachVideoFile = os.listdir()\n",
    "    mynewlist = [x for x in listOfEachVideoFile if x.startswith(\"inputVideo\")]\n",
    "    mynewlist.sort()\n",
    "\n",
    "    counter = 0\n",
    "\n",
    "    while bool(mynewlist) is True:\n",
    "        yFile = \"inputVideo-0\"\n",
    "        f = open('helloworld.txt','w')\n",
    "\n",
    "        for xFile in mynewlist:\n",
    "            if xFile == mynewlist[0]:\n",
    "                f.write(\"file\" + \" '\" + xFile + \"'\" + \"\\n\")        \n",
    "\n",
    "            if substring_after(\"inputVideo-\", xFile).startswith(str(int(substring_after(\"inputVideo-\", yFile)[0]) + 1)):\n",
    "                f.write(\"file\" + \" '\" + xFile + \"'\" + \"\\n\")\n",
    "\n",
    "            yFile = xFile\n",
    "\n",
    "        f.close()\n",
    "\n",
    "        nameOfOutputVideos = \"output\" + str(counter) + \".avi\"\n",
    "\n",
    "        !ffmpeg -f concat -i helloworld.txt -c copy $nameOfOutputVideos\n",
    "        !xargs rm < helloworld.txt\n",
    "        !sudo rm helloworld.txt\n",
    "\n",
    "        listOfEachVideoFile = os.listdir()\n",
    "        mynewlist = [x for x in listOfEachVideoFile if x.startswith(\"inputVideo\")]\n",
    "        mynewlist.sort()\n",
    "\n",
    "        counter = counter + 1"
   ]
  },
  {
   "cell_type": "code",
   "execution_count": null,
   "metadata": {},
   "outputs": [],
   "source": [
    "os.chdir(\"/home/jupyter/Split/Videos/\")\n",
    "!find . -mindepth 2 -type f -print -exec mv {} . \\;\n",
    "\n",
    "!rename 's/^inputVideo-//' *\n",
    "!rename 's/.avi//' *\n",
    "\n",
    "listOfEachVideoFile = os.listdir()\n",
    "mynewlist = [x for x in listOfEachVideoFile if x[0].isdigit()]\n",
    "mynewlist = [int(x) for x in mynewlist]\n",
    "mynewlist.sort()\n",
    "\n",
    "f = open('helloworld.txt','w')\n",
    "\n",
    "for xFile in mynewlist:\n",
    "    f.write(\"file\" + \" '\" + str(xFile) + \"'\" + \"\\n\")        \n",
    "\n",
    "f.close()"
   ]
  },
  {
   "cell_type": "code",
   "execution_count": null,
   "metadata": {},
   "outputs": [],
   "source": [
    "nameOfOutputVideos = \"output.avi\"\n",
    "!ffmpeg -f concat -i helloworld.txt -c copy $nameOfOutputVideos"
   ]
  },
  {
   "cell_type": "code",
   "execution_count": null,
   "metadata": {},
   "outputs": [],
   "source": [
    "!xargs rm < helloworld.txt\n",
    "!sudo rm helloworld.txt"
   ]
  },
  {
   "cell_type": "code",
   "execution_count": null,
   "metadata": {},
   "outputs": [],
   "source": []
  }
 ],
 "metadata": {
  "kernelspec": {
   "display_name": "Python 3",
   "language": "python",
   "name": "python3"
  },
  "language_info": {
   "codemirror_mode": {
    "name": "ipython",
    "version": 3
   },
   "file_extension": ".py",
   "mimetype": "text/x-python",
   "name": "python",
   "nbconvert_exporter": "python",
   "pygments_lexer": "ipython3",
   "version": "3.5.3"
  }
 },
 "nbformat": 4,
 "nbformat_minor": 2
}
